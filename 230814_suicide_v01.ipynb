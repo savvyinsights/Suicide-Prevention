{
 "cells": [
  {
   "cell_type": "code",
   "execution_count": 7,
   "metadata": {},
   "outputs": [],
   "source": [
    "import pandas as pd\n",
    "import numpy as np\n",
    "import matplotlib as plt"
   ]
  },
  {
   "cell_type": "code",
   "execution_count": null,
   "metadata": {},
   "outputs": [],
   "source": [
    "print(data_frame.head(30))"
   ]
  },
  {
   "cell_type": "code",
   "execution_count": 4,
   "metadata": {},
   "outputs": [
    {
     "name": "stdout",
     "output_type": "stream",
     "text": [
      "    성별    연령별  2022.4/4 p)  2023.1/4 p)\n",
      "0    계      계         3082         3229\n",
      "1    계  19세이하           76           83\n",
      "2    계    20대          333          360\n",
      "3    계    30대          419          409\n",
      "4    계    40대          588          589\n",
      "5    계    50대          577          662\n",
      "6    계    60대          475          527\n",
      "7    계    70대          313          310\n",
      "8    계  80세이상          301          289\n",
      "9   남자      계         2146         2331\n",
      "10  남자  19세이하           44           42\n",
      "11  남자    20대          193          244\n",
      "12  남자    30대          278          278\n",
      "13  남자    40대          413          419\n",
      "14  남자    50대          432          514\n",
      "15  남자    60대          358          391\n",
      "16  남자    70대          231          241\n",
      "17  남자  80세이상          197          202\n",
      "18  여자      계          936          898\n",
      "19  여자  19세이하           32           41\n",
      "20  여자    20대          140          116\n",
      "21  여자    30대          141          131\n",
      "22  여자    40대          175          170\n",
      "23  여자    50대          145          148\n",
      "24  여자    60대          117          136\n",
      "25  여자    70대           82           69\n",
      "26  여자  80세이상          104           87\n"
     ]
    }
   ],
   "source": [
    "import pandas as pd\n",
    "\n",
    "# CSV 파일 경로 설정\n",
    "csv_file_path = \"D:/Data/age01.csv\"\n",
    "\n",
    "# CSV 파일 불러오기\n",
    "data_frame = pd.read_csv(csv_file_path, encoding=\"cp949\")\n",
    "\n",
    "# 데이터 확인하기\n",
    "print(data_frame.head((30)))"
   ]
  },
  {
   "cell_type": "code",
   "execution_count": 5,
   "metadata": {},
   "outputs": [
    {
     "data": {
      "text/html": [
       "<div>\n",
       "<style scoped>\n",
       "    .dataframe tbody tr th:only-of-type {\n",
       "        vertical-align: middle;\n",
       "    }\n",
       "\n",
       "    .dataframe tbody tr th {\n",
       "        vertical-align: top;\n",
       "    }\n",
       "\n",
       "    .dataframe thead th {\n",
       "        text-align: right;\n",
       "    }\n",
       "</style>\n",
       "<table border=\"1\" class=\"dataframe\">\n",
       "  <thead>\n",
       "    <tr style=\"text-align: right;\">\n",
       "      <th></th>\n",
       "      <th>성별</th>\n",
       "      <th>연령별</th>\n",
       "      <th>2022.4/4 p)</th>\n",
       "      <th>2023.1/4 p)</th>\n",
       "    </tr>\n",
       "  </thead>\n",
       "  <tbody>\n",
       "    <tr>\n",
       "      <th>10</th>\n",
       "      <td>남자</td>\n",
       "      <td>19세이하</td>\n",
       "      <td>44</td>\n",
       "      <td>42</td>\n",
       "    </tr>\n",
       "    <tr>\n",
       "      <th>11</th>\n",
       "      <td>남자</td>\n",
       "      <td>20대</td>\n",
       "      <td>193</td>\n",
       "      <td>244</td>\n",
       "    </tr>\n",
       "    <tr>\n",
       "      <th>12</th>\n",
       "      <td>남자</td>\n",
       "      <td>30대</td>\n",
       "      <td>278</td>\n",
       "      <td>278</td>\n",
       "    </tr>\n",
       "    <tr>\n",
       "      <th>13</th>\n",
       "      <td>남자</td>\n",
       "      <td>40대</td>\n",
       "      <td>413</td>\n",
       "      <td>419</td>\n",
       "    </tr>\n",
       "    <tr>\n",
       "      <th>14</th>\n",
       "      <td>남자</td>\n",
       "      <td>50대</td>\n",
       "      <td>432</td>\n",
       "      <td>514</td>\n",
       "    </tr>\n",
       "    <tr>\n",
       "      <th>15</th>\n",
       "      <td>남자</td>\n",
       "      <td>60대</td>\n",
       "      <td>358</td>\n",
       "      <td>391</td>\n",
       "    </tr>\n",
       "    <tr>\n",
       "      <th>16</th>\n",
       "      <td>남자</td>\n",
       "      <td>70대</td>\n",
       "      <td>231</td>\n",
       "      <td>241</td>\n",
       "    </tr>\n",
       "    <tr>\n",
       "      <th>17</th>\n",
       "      <td>남자</td>\n",
       "      <td>80세이상</td>\n",
       "      <td>197</td>\n",
       "      <td>202</td>\n",
       "    </tr>\n",
       "    <tr>\n",
       "      <th>19</th>\n",
       "      <td>여자</td>\n",
       "      <td>19세이하</td>\n",
       "      <td>32</td>\n",
       "      <td>41</td>\n",
       "    </tr>\n",
       "    <tr>\n",
       "      <th>20</th>\n",
       "      <td>여자</td>\n",
       "      <td>20대</td>\n",
       "      <td>140</td>\n",
       "      <td>116</td>\n",
       "    </tr>\n",
       "    <tr>\n",
       "      <th>21</th>\n",
       "      <td>여자</td>\n",
       "      <td>30대</td>\n",
       "      <td>141</td>\n",
       "      <td>131</td>\n",
       "    </tr>\n",
       "    <tr>\n",
       "      <th>22</th>\n",
       "      <td>여자</td>\n",
       "      <td>40대</td>\n",
       "      <td>175</td>\n",
       "      <td>170</td>\n",
       "    </tr>\n",
       "    <tr>\n",
       "      <th>23</th>\n",
       "      <td>여자</td>\n",
       "      <td>50대</td>\n",
       "      <td>145</td>\n",
       "      <td>148</td>\n",
       "    </tr>\n",
       "    <tr>\n",
       "      <th>24</th>\n",
       "      <td>여자</td>\n",
       "      <td>60대</td>\n",
       "      <td>117</td>\n",
       "      <td>136</td>\n",
       "    </tr>\n",
       "    <tr>\n",
       "      <th>25</th>\n",
       "      <td>여자</td>\n",
       "      <td>70대</td>\n",
       "      <td>82</td>\n",
       "      <td>69</td>\n",
       "    </tr>\n",
       "    <tr>\n",
       "      <th>26</th>\n",
       "      <td>여자</td>\n",
       "      <td>80세이상</td>\n",
       "      <td>104</td>\n",
       "      <td>87</td>\n",
       "    </tr>\n",
       "  </tbody>\n",
       "</table>\n",
       "</div>"
      ],
      "text/plain": [
       "    성별    연령별  2022.4/4 p)  2023.1/4 p)\n",
       "10  남자  19세이하           44           42\n",
       "11  남자    20대          193          244\n",
       "12  남자    30대          278          278\n",
       "13  남자    40대          413          419\n",
       "14  남자    50대          432          514\n",
       "15  남자    60대          358          391\n",
       "16  남자    70대          231          241\n",
       "17  남자  80세이상          197          202\n",
       "19  여자  19세이하           32           41\n",
       "20  여자    20대          140          116\n",
       "21  여자    30대          141          131\n",
       "22  여자    40대          175          170\n",
       "23  여자    50대          145          148\n",
       "24  여자    60대          117          136\n",
       "25  여자    70대           82           69\n",
       "26  여자  80세이상          104           87"
      ]
     },
     "execution_count": 5,
     "metadata": {},
     "output_type": "execute_result"
    }
   ],
   "source": [
    "data_frame=data_frame[data_frame ['성별']!='계']\n",
    "\n",
    "\n",
    "data_frame=data_frame[data_frame ['연령별']!='계']\n",
    "data_frame"
   ]
  },
  {
   "cell_type": "code",
   "execution_count": 32,
   "metadata": {},
   "outputs": [],
   "source": [
    "data_frame.to_csv(\"d:/data/777.csv\",encoding='euc-kr',index=False)\n"
   ]
  },
  {
   "cell_type": "code",
   "execution_count": 6,
   "metadata": {},
   "outputs": [
    {
     "data": {
      "text/html": [
       "<div>\n",
       "<style scoped>\n",
       "    .dataframe tbody tr th:only-of-type {\n",
       "        vertical-align: middle;\n",
       "    }\n",
       "\n",
       "    .dataframe tbody tr th {\n",
       "        vertical-align: top;\n",
       "    }\n",
       "\n",
       "    .dataframe thead th {\n",
       "        text-align: right;\n",
       "    }\n",
       "</style>\n",
       "<table border=\"1\" class=\"dataframe\">\n",
       "  <thead>\n",
       "    <tr style=\"text-align: right;\">\n",
       "      <th></th>\n",
       "      <th>성별</th>\n",
       "      <th>연령별</th>\n",
       "      <th>2022.4/4 p)</th>\n",
       "      <th>2023.1/4 p)</th>\n",
       "    </tr>\n",
       "  </thead>\n",
       "  <tbody>\n",
       "    <tr>\n",
       "      <th>10</th>\n",
       "      <td>남자</td>\n",
       "      <td>19세이하</td>\n",
       "      <td>44</td>\n",
       "      <td>42</td>\n",
       "    </tr>\n",
       "    <tr>\n",
       "      <th>11</th>\n",
       "      <td>남자</td>\n",
       "      <td>20대</td>\n",
       "      <td>193</td>\n",
       "      <td>244</td>\n",
       "    </tr>\n",
       "    <tr>\n",
       "      <th>12</th>\n",
       "      <td>남자</td>\n",
       "      <td>30대</td>\n",
       "      <td>278</td>\n",
       "      <td>278</td>\n",
       "    </tr>\n",
       "    <tr>\n",
       "      <th>19</th>\n",
       "      <td>여자</td>\n",
       "      <td>19세이하</td>\n",
       "      <td>32</td>\n",
       "      <td>41</td>\n",
       "    </tr>\n",
       "    <tr>\n",
       "      <th>20</th>\n",
       "      <td>여자</td>\n",
       "      <td>20대</td>\n",
       "      <td>140</td>\n",
       "      <td>116</td>\n",
       "    </tr>\n",
       "    <tr>\n",
       "      <th>21</th>\n",
       "      <td>여자</td>\n",
       "      <td>30대</td>\n",
       "      <td>141</td>\n",
       "      <td>131</td>\n",
       "    </tr>\n",
       "  </tbody>\n",
       "</table>\n",
       "</div>"
      ],
      "text/plain": [
       "    성별    연령별  2022.4/4 p)  2023.1/4 p)\n",
       "10  남자  19세이하           44           42\n",
       "11  남자    20대          193          244\n",
       "12  남자    30대          278          278\n",
       "19  여자  19세이하           32           41\n",
       "20  여자    20대          140          116\n",
       "21  여자    30대          141          131"
      ]
     },
     "execution_count": 6,
     "metadata": {},
     "output_type": "execute_result"
    }
   ],
   "source": [
    "data_frame=data_frame[(data_frame ['연령별']=='19세이하') | (data_frame ['연령별']=='20대') | (data_frame ['연령별']=='30대')]\n",
    "data_frame\n",
    " \n"
   ]
  },
  {
   "cell_type": "code",
   "execution_count": 15,
   "metadata": {},
   "outputs": [
    {
     "data": {
      "text/plain": [
       "Text(0.5, 1.0, '2023.1/4 p')"
      ]
     },
     "execution_count": 15,
     "metadata": {},
     "output_type": "execute_result"
    },
    {
     "data": {
      "image/png": "[encoded data removed]",
      "text/plain": [
       "<Figure size 1500x500 with 2 Axes>"
      ]
     },
     "metadata": {},
     "output_type": "display_data"
    }
   ],
   "source": [
    "# 막대 그래프 \n",
    "import matplotlib.pyplot as plt\n",
    "plt.rcParams['font.family'] = 'Malgun Gothic'\n",
    "\n",
    "import seaborn as sns\n",
    "fig=plt.figure(figsize=(15,5)) #차트크기 가로15,세로5 \n",
    "ax1=fig.add_subplot(1,2,1)   # 1개의 행의 2개의 열중 첫번째 열에 차트를 그리겠다\n",
    "sns.barplot(data = data_frame, y = '2022.4/4 p)', x = '성별', hue = '연령별', ax=ax1) # ax=ax1의 뜻은 첫번째 위치임\n",
    "ax1.set_title('2022.4/4 p')\n",
    "\n",
    "\n",
    "ax2=fig.add_subplot(1,2,2)   # 1개의 행의 2개의 열중 첫번째 열에 차트를 그리겠다\n",
    "sns.barplot(data = data_frame, y = '2023.1/4 p)', x = '성별', hue = '연령별', ax=ax2) # ax=ax2의 뜻은 두번쨰 위치임\n",
    "ax2.set_title('2023.1/4 p')\n"
   ]
  },
  {
   "cell_type": "code",
   "execution_count": 3,
   "metadata": {},
   "outputs": [
    {
     "ename": "SyntaxError",
     "evalue": "(unicode error) 'unicodeescape' codec can't decode bytes in position 2-3: truncated \\UXXXXXXXX escape (1652424060.py, line 1)",
     "output_type": "error",
     "traceback": [
      "\u001b[1;36m  Cell \u001b[1;32mIn[3], line 1\u001b[1;36m\u001b[0m\n\u001b[1;33m    df1 = pd.read_csv('C:\\Users\\user\\Downloads\\j_00.csv', encoding='Shift-JIS')\u001b[0m\n\u001b[1;37m                                                        ^\u001b[0m\n\u001b[1;31mSyntaxError\u001b[0m\u001b[1;31m:\u001b[0m (unicode error) 'unicodeescape' codec can't decode bytes in position 2-3: truncated \\UXXXXXXXX escape\n"
     ]
    }
   ],
   "source": [
    "df1 = pd.read_csv('C:\\Users\\user\\Downloads\\j_00.csv', encoding='Shift-JIS')\n",
    "df1"
   ]
  },
  {
   "cell_type": "code",
   "execution_count": null,
   "metadata": {},
   "outputs": [],
   "source": []
  }
 ],
 "metadata": {
  "kernelspec": {
   "display_name": "Python 3",
   "language": "python",
   "name": "python3"
  },
  "language_info": {
   "codemirror_mode": {
    "name": "ipython",
    "version": 3
   },
   "file_extension": ".py",
   "mimetype": "text/x-python",
   "name": "python",
   "nbconvert_exporter": "python",
   "pygments_lexer": "ipython3",
   "version": "3.11.4"
  },
  "orig_nbformat": 4
 },
 "nbformat": 4,
 "nbformat_minor": 2
}
